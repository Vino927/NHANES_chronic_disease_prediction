{
  "nbformat": 4,
  "nbformat_minor": 0,
  "metadata": {
    "colab": {
      "provenance": [],
      "toc_visible": true
    },
    "kernelspec": {
      "name": "python3",
      "display_name": "Python 3"
    },
    "language_info": {
      "name": "python"
    }
  },
  "cells": [
    {
      "cell_type": "code",
      "execution_count": null,
      "metadata": {
        "id": "ea4HsIkBCsrn"
      },
      "outputs": [],
      "source": [
        "from google.colab import drive\n",
        "import os\n",
        "import pandas as pd\n",
        "\n"
      ]
    },
    {
      "cell_type": "code",
      "source": [
        "# Mount Google Drive\n",
        "drive.mount('/content/drive')"
      ],
      "metadata": {
        "colab": {
          "base_uri": "https://localhost:8080/"
        },
        "id": "vIlBiRGTC7sO",
        "outputId": "fcb6b9f5-e82a-4f69-fed6-0641e9a33c5b"
      },
      "execution_count": null,
      "outputs": [
        {
          "output_type": "stream",
          "name": "stdout",
          "text": [
            "Drive already mounted at /content/drive; to attempt to forcibly remount, call drive.mount(\"/content/drive\", force_remount=True).\n"
          ]
        }
      ]
    },
    {
      "cell_type": "code",
      "source": [
        "\n",
        "# Define file paths\n",
        "questionnaire_folder = \"/content/drive/MyDrive/San_Jose_Local_Chapter_NHANES_Dataset/NHANES_Dataset/Questionare/Questionares\"  # Update with your folder path\n",
        "demographic_folder = \"/content/drive/MyDrive/San_Jose_Local_Chapter_NHANES_Dataset/NHANES_Dataset/Demographics\"  # Update with your demographic file path\n"
      ],
      "metadata": {
        "id": "kP9fNTiPFLOJ"
      },
      "execution_count": null,
      "outputs": []
    },
    {
      "cell_type": "code",
      "source": [
        "\n",
        "# List of variables to retain from questionnaire data\n",
        "questionnaire_vars = [\n",
        "    \"SEQN\", \"ALQ151\", \"BPQ080\", \"CDQ009A\", \"CDQ009B\", \"CDQ009F\", \"CDQ009G\",\n",
        "    \"CDQ008\", \"DBQ700\", \"KIQ022\", \"KIQ025\", \"KIQ480\", \"MCQ035\", \"MCQ160A\", \"MCQ160B\",\n",
        "    \"MCQ160C\", \"MCQ160D\", \"MCQ160E\", \"MCQ160F\", \"MCQ160M\", \"MCQ220\", \"MCQ300B\",\n",
        "    \"MCQ300C\", \"MCQ300A\", \"SLD012\", \"SMQ681\", \"WHD010\", \"WHD020\", \"DIQ010\"\n",
        "]"
      ],
      "metadata": {
        "id": "wGf604D9C8NS"
      },
      "execution_count": null,
      "outputs": []
    },
    {
      "cell_type": "code",
      "source": [
        "\n",
        "# List of variables to retain from demographic data\n",
        "demographic_vars = [\"SEQN\", \"RIAGENDR\", \"RIDAGEYR\", \"RIDRETH1\", \"RIDRETH3\", \"INDFMPIR\"]\n"
      ],
      "metadata": {
        "id": "MA1VkfyBDRJE"
      },
      "execution_count": null,
      "outputs": []
    },
    {
      "cell_type": "code",
      "source": [
        "# Step 1: Load and merge all questionnaire data on SEQN\n",
        "\n",
        "for file in os.listdir(questionnaire_folder):\n",
        "    if file.endswith('.csv'):\n",
        "        file_path = os.path.join(questionnaire_folder, file)\n",
        "        data = pd.read_csv(file_path, usecols=[col for col in questionnaire_vars if col in pd.read_csv(file_path, nrows=0).columns])\n",
        "        #print(f\"Columns in {file}: {data.columns.tolist()}\")\n"
      ],
      "metadata": {
        "id": "PKM_We8ZDRTJ"
      },
      "execution_count": null,
      "outputs": []
    },
    {
      "cell_type": "code",
      "source": [
        "merged_questionnaire_data = None\n",
        "# Dictionary to log duplicates for each file\n",
        "seqn_duplicates_log = {}\n",
        "\n",
        "# Iterate through each file\n",
        "for file in os.listdir(questionnaire_folder):\n",
        "    if file.endswith('.csv'):\n",
        "        file_path = os.path.join(questionnaire_folder, file)\n",
        "\n",
        "        # Read the file\n",
        "        data = pd.read_csv(file_path)\n",
        "\n",
        "        # Standardize column names\n",
        "        data.columns = data.columns.str.strip().str.upper()  # Standardize to uppercase\n",
        "\n",
        "        # Find common variables between the file and questionnaire_vars\n",
        "        common_vars = [col for col in questionnaire_vars if col in data.columns and col != \"SEQN\"]\n",
        "\n",
        "        # Skip the file if it has no key variables (SEQN + relevant columns)\n",
        "        if not common_vars or \"SEQN\" not in data.columns:\n",
        "            continue\n",
        "\n",
        "        # Optionally print common_vars only when it's not empty\n",
        "        if common_vars:\n",
        "            print(common_vars)\n",
        "\n",
        "        # Retain only SEQN and relevant variables\n",
        "        data = data[[\"SEQN\"] + [col for col in common_vars if col != \"SEQN\"]]\n",
        "        print(data)\n",
        "        # Check for duplicate SEQN values\n",
        "        duplicate_seqns = data[data[\"SEQN\"].duplicated()][\"SEQN\"].tolist()\n",
        "        if duplicate_seqns:  # Log and print only if duplicates exist\n",
        "            seqn_duplicates_log[file] = duplicate_seqns\n",
        "            print(f\"File: {file}, Duplicate SEQNs: {seqn_duplicates_log[file]}\")\n",
        "        else:\n",
        "            seqn_duplicates_log[file] = []\n",
        "\n",
        "        # Merge with accumulated data\n",
        "        if merged_questionnaire_data is None:\n",
        "            merged_questionnaire_data = data\n",
        "        else:\n",
        "            merged_questionnaire_data = pd.merge(\n",
        "                merged_questionnaire_data,\n",
        "                data,\n",
        "                on=\"SEQN\",\n",
        "                how=\"outer\",\n",
        "                suffixes=(\"\", \"_DUPLICATE\")  # Add suffix to duplicate columns\n",
        "            )\n",
        "            # Remove duplicate columns created by the merge\n",
        "            merged_questionnaire_data = merged_questionnaire_data.loc[\n",
        "                :, ~merged_questionnaire_data.columns.duplicated()\n",
        "            ]\n",
        "\n",
        "# Print all duplicate SEQNs across files\n",
        "print(\"\\nSummary of Duplicate SEQNs Pre-Merge:\")\n",
        "for file, duplicates in seqn_duplicates_log.items():\n",
        "    if duplicates:\n",
        "        print(f\"File: {file}, Duplicates: {duplicates}\")\n",
        "    else:\n",
        "        print(f\"File: {file}, No Duplicates Found\")\n"
      ],
      "metadata": {
        "colab": {
          "base_uri": "https://localhost:8080/"
        },
        "id": "XQSdxx1HHjAS",
        "outputId": "5ee27bb5-3dde-404c-ab76-90bea126cc48"
      },
      "execution_count": null,
      "outputs": [
        {
          "output_type": "stream",
          "name": "stdout",
          "text": [
            "['ALQ151']\n",
            "          SEQN  ALQ151\n",
            "0     109266.0     2.0\n",
            "1     109271.0     1.0\n",
            "2     109273.0     2.0\n",
            "3     109274.0     2.0\n",
            "4     109282.0     2.0\n",
            "...        ...     ...\n",
            "8960  124815.0     2.0\n",
            "8961  124817.0     2.0\n",
            "8962  124818.0     2.0\n",
            "8963  124821.0     2.0\n",
            "8964  124822.0     1.0\n",
            "\n",
            "[8965 rows x 2 columns]\n",
            "['CDQ009A', 'CDQ009B', 'CDQ009F', 'CDQ009G', 'CDQ008']\n",
            "          SEQN  CDQ009A  CDQ009B  CDQ009F  CDQ009G  CDQ008\n",
            "0     109271.0      NaN      NaN      NaN      NaN     2.0\n",
            "1     109274.0      NaN      NaN      NaN      NaN     NaN\n",
            "2     109282.0      NaN      NaN      NaN      NaN     2.0\n",
            "3     109283.0      NaN      NaN      NaN      NaN     1.0\n",
            "4     109284.0      NaN      NaN      NaN      NaN     NaN\n",
            "...        ...      ...      ...      ...      ...     ...\n",
            "6428  124815.0      NaN      NaN      NaN      NaN     NaN\n",
            "6429  124817.0      NaN      NaN      NaN      NaN     1.0\n",
            "6430  124818.0      NaN      NaN      NaN      NaN     2.0\n",
            "6431  124821.0      NaN      NaN      NaN      NaN     NaN\n",
            "6432  124822.0      NaN      NaN      NaN      NaN     2.0\n",
            "\n",
            "[6433 rows x 6 columns]\n",
            "['BPQ080']\n",
            "           SEQN  BPQ080\n",
            "0      109266.0     1.0\n",
            "1      109267.0     2.0\n",
            "2      109268.0     2.0\n",
            "3      109271.0     1.0\n",
            "4      109273.0     2.0\n",
            "...         ...     ...\n",
            "10190  124815.0     2.0\n",
            "10191  124817.0     1.0\n",
            "10192  124818.0     2.0\n",
            "10193  124821.0     1.0\n",
            "10194  124822.0     1.0\n",
            "\n",
            "[10195 rows x 2 columns]\n",
            "['DIQ010']\n",
            "           SEQN  DIQ010\n",
            "0      109263.0     2.0\n",
            "1      109264.0     2.0\n",
            "2      109265.0     2.0\n",
            "3      109266.0     2.0\n",
            "4      109267.0     2.0\n",
            "...         ...     ...\n",
            "14981  124818.0     2.0\n",
            "14982  124819.0     2.0\n",
            "14983  124820.0     2.0\n",
            "14984  124821.0     3.0\n",
            "14985  124822.0     2.0\n",
            "\n",
            "[14986 rows x 2 columns]\n",
            "['DBQ700']\n",
            "           SEQN  DBQ700\n",
            "0      109263.0     NaN\n",
            "1      109264.0     NaN\n",
            "2      109265.0     NaN\n",
            "3      109266.0     3.0\n",
            "4      109267.0     1.0\n",
            "...         ...     ...\n",
            "15555  124818.0     4.0\n",
            "15556  124819.0     NaN\n",
            "15557  124820.0     NaN\n",
            "15558  124821.0     2.0\n",
            "15559  124822.0     3.0\n",
            "\n",
            "[15560 rows x 2 columns]\n",
            "['KIQ022', 'KIQ025', 'KIQ480']\n",
            "          SEQN  KIQ022  KIQ025        KIQ480\n",
            "0     109266.0     2.0     NaN  5.397605e-79\n",
            "1     109267.0     2.0     NaN           NaN\n",
            "2     109271.0     2.0     NaN  2.000000e+00\n",
            "3     109273.0     2.0     NaN  1.000000e+00\n",
            "4     109274.0     2.0     NaN  5.397605e-79\n",
            "...        ...     ...     ...           ...\n",
            "9227  124815.0     2.0     NaN  2.000000e+00\n",
            "9228  124817.0     2.0     NaN  5.397605e-79\n",
            "9229  124818.0     2.0     NaN  1.000000e+00\n",
            "9230  124821.0     2.0     NaN  2.000000e+00\n",
            "9231  124822.0     2.0     NaN  1.000000e+00\n",
            "\n",
            "[9232 rows x 4 columns]\n",
            "['MCQ035', 'MCQ160A', 'MCQ160B', 'MCQ160C', 'MCQ160D', 'MCQ160E', 'MCQ160F', 'MCQ160M', 'MCQ220', 'MCQ300B', 'MCQ300C', 'MCQ300A']\n",
            "           SEQN  MCQ035  MCQ160A  MCQ160B  MCQ160C  MCQ160D  MCQ160E  MCQ160F  \\\n",
            "0      109263.0     NaN      NaN      NaN      NaN      NaN      NaN      NaN   \n",
            "1      109264.0     NaN      NaN      NaN      NaN      NaN      NaN      NaN   \n",
            "2      109265.0     NaN      NaN      NaN      NaN      NaN      NaN      NaN   \n",
            "3      109266.0     NaN      2.0      2.0      2.0      2.0      2.0      2.0   \n",
            "4      109267.0     NaN      2.0      2.0      2.0      2.0      2.0      2.0   \n",
            "...         ...     ...      ...      ...      ...      ...      ...      ...   \n",
            "14981  124818.0     NaN      2.0      2.0      2.0      2.0      2.0      2.0   \n",
            "14982  124819.0     NaN      NaN      NaN      NaN      NaN      NaN      NaN   \n",
            "14983  124820.0     NaN      NaN      NaN      NaN      NaN      NaN      NaN   \n",
            "14984  124821.0     1.0      1.0      2.0      2.0      2.0      2.0      2.0   \n",
            "14985  124822.0     NaN      2.0      2.0      2.0      2.0      1.0      2.0   \n",
            "\n",
            "       MCQ160M  MCQ220  MCQ300B  MCQ300C  MCQ300A  \n",
            "0          NaN     NaN      NaN      NaN      NaN  \n",
            "1          NaN     NaN      1.0      NaN      NaN  \n",
            "2          NaN     NaN      NaN      NaN      NaN  \n",
            "3          2.0     2.0      2.0      1.0      2.0  \n",
            "4          2.0     2.0      2.0      2.0      2.0  \n",
            "...        ...     ...      ...      ...      ...  \n",
            "14981      2.0     2.0      2.0      2.0      2.0  \n",
            "14982      NaN     NaN      NaN      NaN      NaN  \n",
            "14983      NaN     NaN      2.0      NaN      NaN  \n",
            "14984      2.0     2.0      1.0      1.0      2.0  \n",
            "14985      2.0     2.0      2.0      2.0      2.0  \n",
            "\n",
            "[14986 rows x 13 columns]\n",
            "['SLD012']\n",
            "           SEQN  SLD012\n",
            "0      109266.0     7.5\n",
            "1      109267.0     8.0\n",
            "2      109268.0     8.5\n",
            "3      109271.0    10.0\n",
            "4      109273.0     6.5\n",
            "...         ...     ...\n",
            "10190  124815.0     6.0\n",
            "10191  124817.0     8.0\n",
            "10192  124818.0     6.0\n",
            "10193  124821.0     8.0\n",
            "10194  124822.0     5.5\n",
            "\n",
            "[10195 rows x 2 columns]\n",
            "['SMQ681']\n",
            "           SEQN  SMQ681\n",
            "0      109264.0     2.0\n",
            "1      109266.0     2.0\n",
            "2      109271.0     1.0\n",
            "3      109273.0     1.0\n",
            "4      109274.0     2.0\n",
            "...         ...     ...\n",
            "10404  124815.0     1.0\n",
            "10405  124817.0     2.0\n",
            "10406  124818.0     2.0\n",
            "10407  124821.0     1.0\n",
            "10408  124822.0     2.0\n",
            "\n",
            "[10409 rows x 2 columns]\n",
            "['WHD010', 'WHD020']\n",
            "           SEQN  WHD010  WHD020\n",
            "0      109266.0    64.0   210.0\n",
            "1      109267.0    63.0   130.0\n",
            "2      109268.0    65.0   120.0\n",
            "3      109271.0    72.0   222.0\n",
            "4      109273.0    72.0   165.0\n",
            "...         ...     ...     ...\n",
            "10190  124815.0    72.0   217.0\n",
            "10191  124817.0    59.0   175.0\n",
            "10192  124818.0    70.0   235.0\n",
            "10193  124821.0    71.0   180.0\n",
            "10194  124822.0    61.0   135.0\n",
            "\n",
            "[10195 rows x 3 columns]\n",
            "['MCQ035', 'MCQ160A', 'MCQ160B', 'MCQ160C', 'MCQ160D', 'MCQ160E', 'MCQ160F', 'MCQ160M', 'MCQ220', 'MCQ300B', 'MCQ300C', 'MCQ300A']\n",
            "           SEQN  MCQ035  MCQ160A  MCQ160B  MCQ160C  MCQ160D  MCQ160E  MCQ160F  \\\n",
            "0      109263.0     NaN      NaN      NaN      NaN      NaN      NaN      NaN   \n",
            "1      109264.0     NaN      NaN      NaN      NaN      NaN      NaN      NaN   \n",
            "2      109265.0     NaN      NaN      NaN      NaN      NaN      NaN      NaN   \n",
            "3      109266.0     NaN      2.0      2.0      2.0      2.0      2.0      2.0   \n",
            "4      109267.0     NaN      2.0      2.0      2.0      2.0      2.0      2.0   \n",
            "...         ...     ...      ...      ...      ...      ...      ...      ...   \n",
            "14981  124818.0     NaN      2.0      2.0      2.0      2.0      2.0      2.0   \n",
            "14982  124819.0     NaN      NaN      NaN      NaN      NaN      NaN      NaN   \n",
            "14983  124820.0     NaN      NaN      NaN      NaN      NaN      NaN      NaN   \n",
            "14984  124821.0     1.0      1.0      2.0      2.0      2.0      2.0      2.0   \n",
            "14985  124822.0     NaN      2.0      2.0      2.0      2.0      1.0      2.0   \n",
            "\n",
            "       MCQ160M  MCQ220  MCQ300B  MCQ300C  MCQ300A  \n",
            "0          NaN     NaN      NaN      NaN      NaN  \n",
            "1          NaN     NaN      1.0      NaN      NaN  \n",
            "2          NaN     NaN      NaN      NaN      NaN  \n",
            "3          2.0     2.0      2.0      1.0      2.0  \n",
            "4          2.0     2.0      2.0      2.0      2.0  \n",
            "...        ...     ...      ...      ...      ...  \n",
            "14981      2.0     2.0      2.0      2.0      2.0  \n",
            "14982      NaN     NaN      NaN      NaN      NaN  \n",
            "14983      NaN     NaN      2.0      NaN      NaN  \n",
            "14984      2.0     2.0      1.0      1.0      2.0  \n",
            "14985      2.0     2.0      2.0      2.0      2.0  \n",
            "\n",
            "[14986 rows x 13 columns]\n",
            "\n",
            "Summary of Duplicate SEQNs Pre-Merge:\n",
            "File: Alcohol_Use_Data.csv, No Duplicates Found\n",
            "File: Cardiovascular_Health_Data.csv, No Duplicates Found\n",
            "File: Blood_Pressure_Cholesterol_Data.csv, No Duplicates Found\n",
            "File: Diabetes_Data.csv, No Duplicates Found\n",
            "File: Diet_Behavior_Nutrition_Data.csv, No Duplicates Found\n",
            "File: Kidney_Conditions_Urology_Data.csv, No Duplicates Found\n",
            "File: Medical_Conditions_Data.csv, No Duplicates Found\n",
            "File: Sleep_Disorders_Data.csv, No Duplicates Found\n",
            "File: Smoking_Recent_Tobacco_Use_Data.csv, No Duplicates Found\n",
            "File: Weight_History_Data.csv, No Duplicates Found\n",
            "File: Medical_Conditions_Data_with_CVD_status.csv, No Duplicates Found\n"
          ]
        }
      ]
    },
    {
      "cell_type": "code",
      "source": [
        "\n",
        "# Step 2: Load demographic data\n",
        "for file in os.listdir(demographic_folder):\n",
        "    if file.endswith('.csv'):\n",
        "        file_path = os.path.join(demographic_folder, file)\n",
        "    demographic_data = pd.read_csv(file_path, usecols=demographic_vars)\n"
      ],
      "metadata": {
        "id": "VNaQgu7gDRox"
      },
      "execution_count": null,
      "outputs": []
    },
    {
      "cell_type": "code",
      "source": [
        "# Step 3: Merge the questionnaire data with demographic data on SEQN\n",
        "final_merged_data = pd.merge(merged_questionnaire_data, demographic_data, on=\"SEQN\", how=\"inner\")\n"
      ],
      "metadata": {
        "id": "O4UztaUkDuGh"
      },
      "execution_count": null,
      "outputs": []
    },
    {
      "cell_type": "code",
      "source": [
        "# Ensure the final merged data exists\n",
        "if merged_questionnaire_data is not None:\n",
        "    # Count non-null values for each column\n",
        "    column_counts = merged_questionnaire_data.count()\n",
        "\n",
        "    # Convert the result to a DataFrame for better visualization\n",
        "    column_counts_df = column_counts.reset_index()\n",
        "    column_counts_df.columns = ['Column', 'Non-Null Count']\n",
        "\n",
        "    # Display the counts\n",
        "    print(column_counts_df)\n",
        "\n",
        "    # Optionally save the counts to a CSV file\n",
        "    column_counts_df.to_csv(\"column_counts.csv\", index=False)\n",
        "else:\n",
        "    print(\"No data to analyze.\")\n"
      ],
      "metadata": {
        "colab": {
          "base_uri": "https://localhost:8080/"
        },
        "id": "zg2YtxKElXg7",
        "outputId": "94ca83f5-1ffb-4606-a7ee-131bf44ee981"
      },
      "execution_count": null,
      "outputs": [
        {
          "output_type": "stream",
          "name": "stdout",
          "text": [
            "               Column  Non-Null Count\n",
            "0                SEQN           15560\n",
            "1              ALQ151            7501\n",
            "2             CDQ009A              24\n",
            "3             CDQ009B              71\n",
            "4             CDQ009F             149\n",
            "5             CDQ009G              22\n",
            "6              CDQ008            1896\n",
            "7              BPQ080           10195\n",
            "8              DIQ010           14986\n",
            "9              DBQ700           10195\n",
            "10             KIQ022            9232\n",
            "11             KIQ025             383\n",
            "12             KIQ480            7966\n",
            "13             MCQ035            2322\n",
            "14            MCQ160A            9232\n",
            "15            MCQ160B            9232\n",
            "16            MCQ160C            9232\n",
            "17            MCQ160D            9232\n",
            "18            MCQ160E            9232\n",
            "19            MCQ160F            9232\n",
            "20            MCQ160M            9232\n",
            "21             MCQ220            9232\n",
            "22            MCQ300B           13217\n",
            "23            MCQ300C            9232\n",
            "24            MCQ300A            9232\n",
            "25             SLD012           10105\n",
            "26             SMQ681            9742\n",
            "27             WHD010           10140\n",
            "28             WHD020           10195\n",
            "29   MCQ035_DUPLICATE            2322\n",
            "30  MCQ160A_DUPLICATE            9232\n",
            "31  MCQ160B_DUPLICATE            9232\n",
            "32  MCQ160C_DUPLICATE            9232\n",
            "33  MCQ160D_DUPLICATE            9232\n",
            "34  MCQ160E_DUPLICATE            9232\n",
            "35  MCQ160F_DUPLICATE            9232\n",
            "36  MCQ160M_DUPLICATE            9232\n",
            "37   MCQ220_DUPLICATE            9232\n",
            "38  MCQ300B_DUPLICATE           13217\n",
            "39  MCQ300C_DUPLICATE            9232\n",
            "40  MCQ300A_DUPLICATE            9232\n"
          ]
        }
      ]
    },
    {
      "cell_type": "code",
      "source": [
        "\n",
        "# Display the merged data\n",
        "# Display the merged data\n",
        "print(f\"Merged data shape: {final_merged_data.shape}\")\n",
        "print(final_merged_data.head())\n"
      ],
      "metadata": {
        "id": "C9FupaShDuvA",
        "colab": {
          "base_uri": "https://localhost:8080/"
        },
        "outputId": "019e89cb-be03-4cf3-a0b9-b99a675215c7"
      },
      "execution_count": null,
      "outputs": [
        {
          "output_type": "stream",
          "name": "stdout",
          "text": [
            "Merged data shape: (15560, 46)\n",
            "       SEQN  ALQ151  CDQ009A  CDQ009B  CDQ009F  CDQ009G  CDQ008  BPQ080  \\\n",
            "0  109263.0     NaN      NaN      NaN      NaN      NaN     NaN     NaN   \n",
            "1  109264.0     NaN      NaN      NaN      NaN      NaN     NaN     NaN   \n",
            "2  109265.0     NaN      NaN      NaN      NaN      NaN     NaN     NaN   \n",
            "3  109266.0     2.0      NaN      NaN      NaN      NaN     NaN     1.0   \n",
            "4  109267.0     NaN      NaN      NaN      NaN      NaN     NaN     2.0   \n",
            "\n",
            "   DIQ010  DBQ700  ...  MCQ160M_DUPLICATE  MCQ220_DUPLICATE  \\\n",
            "0     2.0     NaN  ...                NaN               NaN   \n",
            "1     2.0     NaN  ...                NaN               NaN   \n",
            "2     2.0     NaN  ...                NaN               NaN   \n",
            "3     2.0     3.0  ...                2.0               2.0   \n",
            "4     2.0     1.0  ...                2.0               2.0   \n",
            "\n",
            "   MCQ300B_DUPLICATE  MCQ300C_DUPLICATE  MCQ300A_DUPLICATE  RIAGENDR  \\\n",
            "0                NaN                NaN                NaN       1.0   \n",
            "1                1.0                NaN                NaN       2.0   \n",
            "2                NaN                NaN                NaN       1.0   \n",
            "3                2.0                1.0                2.0       2.0   \n",
            "4                2.0                2.0                2.0       2.0   \n",
            "\n",
            "   RIDAGEYR  RIDRETH1  RIDRETH3  INDFMPIR  \n",
            "0       2.0       5.0       6.0      4.66  \n",
            "1      13.0       1.0       1.0      0.83  \n",
            "2       2.0       3.0       3.0      3.06  \n",
            "3      29.0       5.0       6.0      5.00  \n",
            "4      21.0       2.0       2.0      5.00  \n",
            "\n",
            "[5 rows x 46 columns]\n"
          ]
        }
      ]
    },
    {
      "cell_type": "code",
      "source": [
        "\n",
        "# Optionally save the merged data to a new CSV file\n",
        "output_file = \"/content/drive/MyDrive/Final_Merged_Data.csv\"\n",
        "final_merged_data.to_csv(output_file, index=False)\n"
      ],
      "metadata": {
        "id": "YAjpY0EhDy0l"
      },
      "execution_count": null,
      "outputs": []
    }
  ]
}